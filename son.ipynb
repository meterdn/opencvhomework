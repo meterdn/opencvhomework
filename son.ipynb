{
 "cells": [
  {
   "cell_type": "code",
   "execution_count": null,
   "id": "746cb497",
   "metadata": {},
   "outputs": [],
   "source": [
    "\n",
    "import cv2\n",
    "import numpy as np\n",
    "\n",
    "cap = cv2.VideoCapture(\"reddetection.mp4\")\n",
    "\n",
    "while cap.isOpened():\n",
    "    ret, frame = cap.read()\n",
    "    height = int(cap.get(4))\n",
    "    width = int(cap.get(3))\n",
    "    blured=cv2.blur(frame,(9,9))\n",
    "    hsv = cv2.cvtColor(frame, cv2.COLOR_BGR2HSV)\n",
    "    lower_range = np.array([140, 80, 50])\n",
    "    upper_range = np.array([180, 255, 255])\n",
    "    red_area = cv2.inRange(hsv, lower_range, upper_range)\n",
    "    result = cv2.bitwise_and(frame, frame, mask=red_area)\n",
    "    points = cv2.findNonZero(red_area)\n",
    "    avg = np.mean(points, axis=0)\n",
    "    pointInScreen = avg[0]\n",
    "    neww = (int(width/2 - avg[0][0]), int(height/2 - avg[0][1]))\n",
    "    cv2.circle(result,neww,4,(0,0,255),-1)\n",
    "    mesafe = ((int(width/2 - avg[0][0]))**2 +  (int(height/2 - avg[0][1]))**2)\n",
    "    font = cv2.FONT_HERSHEY_SIMPLEX\n",
    "    output = cv2.putText(result, \"mesafe \" + str(mesafe), (10,30), font, 1, (0, 255, 255), 1, cv2.LINE_AA)\n",
    "    contours, hierarchy = cv2.findContours(red_area.copy(), cv2.RETR_EXTERNAL, cv2.CHAIN_APPROX_SIMPLE)\n",
    "    output = cv2.drawContours(output, contours, -1, (0, 0, 255), 3)\n",
    "    cv2.imshow('son', output)\n",
    "    if cv2.waitKey(3) == ord('q'):\n",
    "        break\n",
    "\n",
    "cap.release()\n",
    "cv2.destroyAllWindows()\n"
   ]
  }
 ],
 "metadata": {
  "kernelspec": {
   "display_name": "Python 3 (ipykernel)",
   "language": "python",
   "name": "python3"
  },
  "language_info": {
   "codemirror_mode": {
    "name": "ipython",
    "version": 3
   },
   "file_extension": ".py",
   "mimetype": "text/x-python",
   "name": "python",
   "nbconvert_exporter": "python",
   "pygments_lexer": "ipython3",
   "version": "3.9.12"
  }
 },
 "nbformat": 4,
 "nbformat_minor": 5
}
